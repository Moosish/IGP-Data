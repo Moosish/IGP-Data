{
 "cells": [
  {
   "cell_type": "code",
   "execution_count": null,
   "metadata": {},
   "outputs": [],
   "source": [
    "import nltk\n",
    "nltk.download('vader_lexicon')"
   ]
  },
  {
   "cell_type": "code",
   "execution_count": 1,
   "metadata": {},
   "outputs": [
    {
     "name": "stdout",
     "output_type": "stream",
     "text": [
      "Sentiment Analysis Results:\n",
      "Positive: 41.41%\n",
      "Negative: 12.12%\n",
      "Neutral: 46.46%\n"
     ]
    }
   ],
   "source": [
    "import pandas as pd\n",
    "from nltk.sentiment.vader import SentimentIntensityAnalyzer\n",
    "\n",
    "# Load article data file\n",
    "df = pd.read_csv(\"/Users/willgovier/Documents/Interdisciplinary group project/GROUP PROJECT/Data repo/IGP-Data/Prepared Data/Stock News/MSFT/MSFT_stock_news_2024-04-15_122011.csv\")\n",
    "\n",
    "# ignore header row\n",
    "df = df.iloc[1:]\n",
    "\n",
    "# VADER sentiment analyzer\n",
    "sid = SentimentIntensityAnalyzer()\n",
    "\n",
    "# function to get sentiment score\n",
    "def get_sentiment_score(text):\n",
    "    scores = sid.polarity_scores(text)\n",
    "    compound_score = scores['compound']\n",
    "    return compound_score\n",
    "\n",
    "# sentiment score calculation for each article headline\n",
    "sentiment_scores = []\n",
    "for headline in df['headline']:\n",
    "    score = get_sentiment_score(headline)\n",
    "    sentiment_scores.append(score)\n",
    "\n",
    "# Classify sentiment based on score\n",
    "positive_count = sum(score > 0 for score in sentiment_scores)\n",
    "negative_count = sum(score < 0 for score in sentiment_scores)\n",
    "neutral_count = sum(score == 0 for score in sentiment_scores)\n",
    "total_count = len(sentiment_scores)\n",
    "\n",
    "# Calculate overall percentage\n",
    "positive_percentage = (positive_count / total_count) * 100\n",
    "negative_percentage = (negative_count / total_count) * 100\n",
    "neutral_percentage = (neutral_count / total_count) * 100\n",
    "\n",
    "# Print results\n",
    "print(\"Sentiment Analysis Results:\")\n",
    "print(f\"Positive: {positive_percentage:.2f}%\")\n",
    "print(f\"Negative: {negative_percentage:.2f}%\")\n",
    "print(f\"Neutral: {neutral_percentage:.2f}%\")\n",
    "\n"
   ]
  }
 ],
 "metadata": {
  "kernelspec": {
   "display_name": "base",
   "language": "python",
   "name": "python3"
  },
  "language_info": {
   "codemirror_mode": {
    "name": "ipython",
    "version": 3
   },
   "file_extension": ".py",
   "mimetype": "text/x-python",
   "name": "python",
   "nbconvert_exporter": "python",
   "pygments_lexer": "ipython3",
   "version": "3.11.4"
  },
  "orig_nbformat": 4
 },
 "nbformat": 4,
 "nbformat_minor": 2
}
