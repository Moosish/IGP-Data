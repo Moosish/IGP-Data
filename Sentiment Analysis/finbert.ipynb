{
 "cells": [
  {
   "cell_type": "code",
   "execution_count": 27,
   "metadata": {
    "ExecuteTime": {
     "end_time": "2024-04-18T10:11:33.010950Z",
     "start_time": "2024-04-18T10:11:28.658253Z"
    }
   },
   "outputs": [
    {
     "name": "stdout",
     "output_type": "stream",
     "text": [
      "                                             headline  \\\n",
      "0   Magnificent Seven Stocks To Buy And Watch: Nvi...   \n",
      "1    Jim Cramer Says You Should Avoid These 11 Stocks   \n",
      "2   These Stocks Are Moving the Most Today: Boeing...   \n",
      "3   Nvidia Has a Secret Weapon to Keep Growing Lon...   \n",
      "4   Intel, AMD Fall on Report China to Limit Use o...   \n",
      "..                                                ...   \n",
      "95  Jim Cramer Thinks AI Revolution Can Boost Thes...   \n",
      "96  3 Reasons to Buy This \"Magnificent Seven\" Stoc...   \n",
      "97  Can This Beaten-Down Stock Skyrocket More Than...   \n",
      "98             Top 15 Countries to Migrate from India   \n",
      "99  Apple Faces Legal Protest From Meta, Microsoft...   \n",
      "\n",
      "                                                 link               date  \\\n",
      "0   https://finance.yahoo.com/m/4205eaa9-f620-3a0b...      Today 12:23PM   \n",
      "1   https://finance.yahoo.com/news/jim-cramer-says...            11:45AM   \n",
      "2   https://finance.yahoo.com/m/ef62b59f-2890-3f7a...            11:17AM   \n",
      "3   https://finance.yahoo.com/m/cc99c582-04fa-3d85...            10:31AM   \n",
      "4   https://finance.yahoo.com/news/intel-amd-fall-...            10:16AM   \n",
      "..                                                ...                ...   \n",
      "95  https://www.insidermonkey.com/blog/jim-cramer-...            08:19AM   \n",
      "96  https://finance.yahoo.com/m/4ff68986-ca18-3467...            08:15AM   \n",
      "97  https://finance.yahoo.com/m/35a1c7ef-77b6-3b0f...            05:05AM   \n",
      "98  https://www.insidermonkey.com/blog/top-15-coun...  Mar-20-24 08:37PM   \n",
      "99  https://finance.yahoo.com/m/a8a92f15-8302-3877...            08:37PM   \n",
      "\n",
      "   sentiment  \n",
      "0    Neutral  \n",
      "1   Negative  \n",
      "2   Negative  \n",
      "3    Neutral  \n",
      "4   Negative  \n",
      "..       ...  \n",
      "95   Neutral  \n",
      "96   Neutral  \n",
      "97   Neutral  \n",
      "98  Negative  \n",
      "99  Positive  \n",
      "\n",
      "[100 rows x 4 columns]\n"
     ]
    }
   ],
   "source": [
    "import pandas as pd\n",
    "from transformers import BertTokenizer, BertForSequenceClassification\n",
    "from torch.utils.data import DataLoader\n",
    "import torch\n",
    "\n",
    "# Load Finbert model and tokenizer\n",
    "model = BertForSequenceClassification.from_pretrained(\"yiyanghkust/finbert-tone\", num_labels=3)\n",
    "tokenizer = BertTokenizer.from_pretrained(\"yiyanghkust/finbert-tone\")\n",
    "\n",
    "# Function: preprocess text and convert to tensor\n",
    "def preprocess_text(text, max_length=102):\n",
    "    inputs = tokenizer(text, padding=True, truncation=True, max_length = max_length, return_tensors=\"pt\")\n",
    "    return inputs\n",
    "\n",
    "# Function: get sentiment label\n",
    "def get_sentiment_label(logits):\n",
    "    probabilities = torch.softmax(logits, dim=1)\n",
    "    sentiment = torch.argmax(probabilities, dim=1).item()\n",
    "    return sentiment\n",
    "\n",
    "# Load data from datafile for analysis\n",
    "data = pd.read_csv(\"../Prepared Data/Stock News/MSFT/MSFT_stock_news_2024-03-25_163333.csv\")\n",
    "\n",
    "# Extract headlines only for sentiment analysis in this case \n",
    "headlines = data[\"headline\"]\n",
    "\n",
    "# Empty list to store sentiment labels\n",
    "sentiments = []\n",
    "\n",
    "# Set device for model\n",
    "device = torch.device(\"cuda\" if torch.cuda.is_available() else \"cpu\")\n",
    "model = model.to(device)\n",
    "\n",
    "# Set the model to evaluation mode\n",
    "model.eval()\n",
    "\n",
    "# Process each headline\n",
    "for headline in headlines:\n",
    "    # Preprocess the text\n",
    "    inputs = preprocess_text(headline)\n",
    "    inputs = {key: inputs[key].to(device) for key in inputs}\n",
    "\n",
    "    # Get model outputs\n",
    "    with torch.no_grad():\n",
    "        outputs = model(**inputs)\n",
    "\n",
    "    # Get sentiment label\n",
    "    sentiment = get_sentiment_label(outputs.logits)\n",
    "    sentiments.append(sentiment)\n",
    "\n",
    "# Add sentiment labels to the DataFrame\n",
    "data[\"sentiment\"] = sentiments\n",
    "\n",
    "# Map sentiment labels to their respective categories (0: Negative, 1: Neutral, 2: Positive)\n",
    "sentiment_map = {0: \"Negative\", 1: \"Neutral\", 2: \"Positive\"}\n",
    "data[\"sentiment\"] = data[\"sentiment\"].map(sentiment_map)\n",
    "\n",
    "# Print the DataFrame with sentiment labels\n",
    "print(data)"
   ]
  },
  {
   "cell_type": "code",
   "execution_count": 28,
   "metadata": {
    "collapsed": false
   },
   "outputs": [
    {
     "name": "stdout",
     "output_type": "stream",
     "text": [
      "\n",
      "Average sentiment for headlines:\n",
      "Average Sentiment Label: Negative\n",
      "Average Sentiment Value: 0.46\n"
     ]
    }
   ],
   "source": [
    "#Calculate average sentiment \n",
    "average_sentiment = sum(sentiments) / len(sentiments)\n",
    "\n",
    "# Map the average sentiment label\n",
    "average_sentiment_label = sentiment_map[int(average_sentiment)]\n",
    "\n",
    "print(\"\\nAverage sentiment for headlines:\")\n",
    "print(\"Average Sentiment Label:\", average_sentiment_label)\n",
    "print(\"Average Sentiment Value:\", average_sentiment)"
   ]
  },
  {
   "cell_type": "code",
   "execution_count": 33,
   "metadata": {},
   "outputs": [
    {
     "name": "stdout",
     "output_type": "stream",
     "text": [
      "Daily change in stock value: -2.3800048828125\n"
     ]
    }
   ],
   "source": [
    "#EXAMPLE: Price change of  MSFT stock 24-03-25\n",
    "# Load stock price data\n",
    "stock_price_data = pd.read_csv('../Prepared Data/MSFT/MSFT_stock_data_2024-01-01_to_2024-04-17.csv')\n",
    "\n",
    "# Specify the row index you want to extract\n",
    "row_index = 57\n",
    "\n",
    "# Extract the 'open' and 'close' values for the specified row\n",
    "open_value = stock_price_data.at[row_index, 'Open']\n",
    "close_value = stock_price_data.at[row_index, 'Close']\n",
    "\n",
    "# Store the open and close values in 'change_in_value'\n",
    "change_in_value = (close_value - open_value)\n",
    "\n",
    "print(\"Daily change in stock value:\", change_in_value)\n"
   ]
  },
  {
   "cell_type": "code",
   "execution_count": 42,
   "metadata": {},
   "outputs": [
    {
     "name": "stdout",
     "output_type": "stream",
     "text": [
      "         Date       Open        High         Low       Close   Adj Close  \\\n",
      "0  2024-03-25  425.23999  427.410004  421.609985  422.859985  422.859985   \n",
      "\n",
      "     Volume  Average_Sentiment  Change_in_Value  \n",
      "0  18060500               0.46        -2.380005  \n"
     ]
    }
   ],
   "source": [
    "#Model relationship between Average Sentiment and Change in price\n",
    "#Create DataFrame with both values\n",
    "sentiment_change_data = pd.DataFrame({'Date': ['2024-03-25'], #date of sentiment and price data\n",
    "                                      'Average_Sentiment': [average_sentiment], #Average sentiment value of headlines from date\n",
    "                                      'Change_in_Value': [change_in_value]}) #Change in price from date\n",
    "\n",
    "#merge with stock price data\n",
    "merged_data = pd.merge(stock_price_data, sentiment_change_data, on='Date', how='inner')\n",
    "\n",
    "print(merged_data.head())"
   ]
  },
  {
   "cell_type": "code",
   "execution_count": null,
   "metadata": {},
   "outputs": [],
   "source": []
  }
 ],
 "metadata": {
  "kernelspec": {
   "display_name": "base",
   "language": "python",
   "name": "python3"
  },
  "language_info": {
   "codemirror_mode": {
    "name": "ipython",
    "version": 3
   },
   "file_extension": ".py",
   "mimetype": "text/x-python",
   "name": "python",
   "nbconvert_exporter": "python",
   "pygments_lexer": "ipython3",
   "version": "3.11.4"
  },
  "orig_nbformat": 4
 },
 "nbformat": 4,
 "nbformat_minor": 2
}
