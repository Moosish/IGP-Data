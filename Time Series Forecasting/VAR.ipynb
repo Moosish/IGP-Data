{
 "cells": [
  {
   "cell_type": "markdown",
   "source": [
    "The Vector Autoregression (VAR) model is useful for multivariate time series data, where the system captures the linear interdependencies among multiple variables. For instance, it could model how the stock prices of several companies interact."
   ],
   "metadata": {
    "collapsed": false
   },
   "id": "cf9f7b5a4fc8962c"
  },
  {
   "cell_type": "code",
   "outputs": [
    {
     "name": "stderr",
     "output_type": "stream",
     "text": [
      "[*********************100%%**********************]  2 of 2 completed\n",
      "C:\\Users\\tpasl\\miniconda3\\envs\\tensorflow\\lib\\site-packages\\statsmodels\\tsa\\base\\tsa_model.py:473: ValueWarning: A date index has been provided, but it has no associated frequency information and so will be ignored when e.g. forecasting.\n",
      "  self._init_dates(dates, freq)\n"
     ]
    }
   ],
   "source": [
    "import pandas as pd\n",
    "from statsmodels.tsa.vector_ar.var_model import VAR\n",
    "import yfinance as yf\n",
    "\n",
    "# Assume you have loaded multiple related financial series into df\n",
    "data = yf.download(['AAPL', 'GOOGL'], start='2015-01-01', end='2023-01-01')['Close']\n",
    "model = VAR(data.dropna())\n",
    "results = model.fit(maxlags=15, ic='aic')\n",
    "\n",
    "# Forecasting\n",
    "lag_order = results.k_ar\n",
    "forecast = results.forecast(data.values[-lag_order:], steps=10)\n",
    "\n",
    "# Convert forecast to DataFrame and plot or analyze forecast\n",
    "forecast_df = pd.DataFrame(forecast, columns=data.columns)"
   ],
   "metadata": {
    "collapsed": false,
    "ExecuteTime": {
     "end_time": "2024-04-16T14:58:59.956459Z",
     "start_time": "2024-04-16T14:58:57.467436Z"
    }
   },
   "id": "5393b75ba1adeeac",
   "execution_count": 1
  },
  {
   "cell_type": "code",
   "outputs": [],
   "source": [
    "import numpy as np\n",
    "from sklearn.metrics import mean_squared_error, mean_absolute_error\n",
    "\n",
    "def calculate_metrics(actual, predicted):\n",
    "    \"\"\"\n",
    "    Calculate RMSE, MAE, and MAPE given actual and predicted values.\n",
    "\n",
    "    Args:\n",
    "    actual (array-like): The actual observed values.\n",
    "    predicted (array-like): The forecasted values.\n",
    "\n",
    "    Returns:\n",
    "    dict: A dictionary containing the RMSE, MAE, and MAPE.\n",
    "    \"\"\"\n",
    "    rmse = np.sqrt(mean_squared_error(actual, predicted))\n",
    "    mae = mean_absolute_error(actual, predicted)\n",
    "    mape = np.mean(np.abs((actual - predicted) / actual)) * 100\n",
    "\n",
    "    return {'RMSE': rmse, 'MAE': mae, 'MAPE': mape}"
   ],
   "metadata": {
    "collapsed": false,
    "ExecuteTime": {
     "end_time": "2024-04-16T14:59:00.079163Z",
     "start_time": "2024-04-16T14:58:59.958634Z"
    }
   },
   "id": "b36af2e776de5fae",
   "execution_count": 2
  },
  {
   "cell_type": "code",
   "outputs": [
    {
     "name": "stdout",
     "output_type": "stream",
     "text": [
      "VAR Metrics: {'AAPL': {'RMSE': 3.706741279503403, 'MAE': 3.3523891793386524, 'MAPE': nan}, 'GOOGL': {'RMSE': 1.2842572712330018, 'MAE': 1.0772536935321653, 'MAPE': nan}}\n"
     ]
    },
    {
     "name": "stderr",
     "output_type": "stream",
     "text": [
      "C:\\Users\\tpasl\\AppData\\Local\\Temp\\ipykernel_29868\\940135892.py:17: RuntimeWarning: '<' not supported between instances of 'int' and 'Timestamp', sort order is undefined for incomparable objects.\n",
      "  mape = np.mean(np.abs((actual - predicted) / actual)) * 100\n",
      "C:\\Users\\tpasl\\AppData\\Local\\Temp\\ipykernel_29868\\940135892.py:17: RuntimeWarning: '<' not supported between instances of 'int' and 'Timestamp', sort order is undefined for incomparable objects.\n",
      "  mape = np.mean(np.abs((actual - predicted) / actual)) * 100\n"
     ]
    }
   ],
   "source": [
    "actual = data.iloc[-len(forecast):]\n",
    "predicted = forecast_df\n",
    "\n",
    "# Calculate metrics for each variable\n",
    "var_metrics = {}\n",
    "for column in data.columns:\n",
    "    var_metrics[column] = calculate_metrics(actual[column], predicted[column])\n",
    "print('VAR Metrics:', var_metrics)"
   ],
   "metadata": {
    "collapsed": false,
    "ExecuteTime": {
     "end_time": "2024-04-16T14:59:00.095163Z",
     "start_time": "2024-04-16T14:59:00.080324Z"
    }
   },
   "id": "d9b34d0819c691dc",
   "execution_count": 3
  },
  {
   "cell_type": "code",
   "outputs": [],
   "source": [],
   "metadata": {
    "collapsed": false
   },
   "id": "382bae0b13fa6452"
  }
 ],
 "metadata": {
  "kernelspec": {
   "display_name": "Python 3",
   "language": "python",
   "name": "python3"
  },
  "language_info": {
   "codemirror_mode": {
    "name": "ipython",
    "version": 2
   },
   "file_extension": ".py",
   "mimetype": "text/x-python",
   "name": "python",
   "nbconvert_exporter": "python",
   "pygments_lexer": "ipython2",
   "version": "2.7.6"
  }
 },
 "nbformat": 4,
 "nbformat_minor": 5
}
