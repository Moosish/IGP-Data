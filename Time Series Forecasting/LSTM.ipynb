{
 "nbformat": 4,
 "nbformat_minor": 0,
 "metadata": {
  "colab": {
   "provenance": [],
   "authorship_tag": "ABX9TyPh3kTNRCcpKbWwAXb9MCSv"
  },
  "kernelspec": {
   "name": "python3",
   "language": "python",
   "display_name": "Python 3 (ipykernel)"
  },
  "language_info": {
   "name": "python"
  }
 },
 "cells": [
  {
   "cell_type": "markdown",
   "source": [
    "note for wiktor and will: you guys will need to create an enviroment with python 3.8-3.11 for this. Latest 3.12 doesn't support tensorflow.\n",
    "you also may need to install dependencies manually as pip can mess up tensorflow."
   ],
   "metadata": {
    "collapsed": false
   }
  },
  {
   "cell_type": "code",
   "source": [
    "import numpy as np\n",
    "import pandas as pd\n",
    "import matplotlib.pyplot as plt\n",
    "from sklearn.preprocessing import MinMaxScaler\n",
    "from sklearn.metrics import mean_squared_error\n",
    "from tensorflow.keras.models import Sequential\n",
    "from tensorflow.keras.layers import Dense, LSTM"
   ],
   "metadata": {
    "id": "RqCnszJ1aygD",
    "executionInfo": {
     "status": "ok",
     "timestamp": 1711028484857,
     "user_tz": 0,
     "elapsed": 6468,
     "user": {
      "displayName": "Tommy Pasley",
      "userId": "15823566978785309213"
     }
    },
    "ExecuteTime": {
     "end_time": "2024-03-25T12:06:33.157817Z",
     "start_time": "2024-03-25T12:06:33.146436Z"
    }
   },
   "execution_count": 15,
   "outputs": []
  },
  {
   "cell_type": "code",
   "source": [
    "feature_prediction = 'Open'\n",
    "ticker = 'MSFT'"
   ],
   "metadata": {
    "id": "S7ln6JIfTQyd",
    "executionInfo": {
     "status": "ok",
     "timestamp": 1711029453514,
     "user_tz": 0,
     "elapsed": 2,
     "user": {
      "displayName": "Tommy Pasley",
      "userId": "15823566978785309213"
     }
    },
    "ExecuteTime": {
     "end_time": "2024-03-25T12:06:33.172912Z",
     "start_time": "2024-03-25T12:06:33.159829Z"
    }
   },
   "execution_count": 16,
   "outputs": []
  },
  {
   "cell_type": "code",
   "source": [
    "df = pd.read_csv('../Prepared Data/MSFT/MSFT_stock_data_2020-01-01_to_2023-12-31.csv')\n",
    "\n",
    "close_prices = df[feature_prediction].values.reshape(-1, 1)"
   ],
   "metadata": {
    "id": "IuAWNDz4a0_H",
    "executionInfo": {
     "status": "ok",
     "timestamp": 1711029455043,
     "user_tz": 0,
     "elapsed": 2,
     "user": {
      "displayName": "Tommy Pasley",
      "userId": "15823566978785309213"
     }
    },
    "ExecuteTime": {
     "end_time": "2024-03-25T12:06:33.188104Z",
     "start_time": "2024-03-25T12:06:33.174813Z"
    }
   },
   "execution_count": 17,
   "outputs": []
  },
  {
   "cell_type": "code",
   "source": [
    "scaler = MinMaxScaler(feature_range=(0, 1))\n",
    "data_normalized = scaler.fit_transform(close_prices)"
   ],
   "metadata": {
    "id": "03SIal_uawMP",
    "executionInfo": {
     "status": "ok",
     "timestamp": 1711029457009,
     "user_tz": 0,
     "elapsed": 632,
     "user": {
      "displayName": "Tommy Pasley",
      "userId": "15823566978785309213"
     }
    },
    "ExecuteTime": {
     "end_time": "2024-03-25T12:06:33.203021Z",
     "start_time": "2024-03-25T12:06:33.188980Z"
    }
   },
   "execution_count": 18,
   "outputs": []
  },
  {
   "cell_type": "code",
   "source": [
    "split_point = int(len(data_normalized) * 0.8)\n",
    "train, test = data_normalized[:split_point, :], data_normalized[split_point:, :]"
   ],
   "metadata": {
    "id": "sVFSf8zFccPr",
    "executionInfo": {
     "status": "ok",
     "timestamp": 1711029457414,
     "user_tz": 0,
     "elapsed": 1,
     "user": {
      "displayName": "Tommy Pasley",
      "userId": "15823566978785309213"
     }
    },
    "ExecuteTime": {
     "end_time": "2024-03-25T12:06:33.218114Z",
     "start_time": "2024-03-25T12:06:33.205026Z"
    }
   },
   "execution_count": 19,
   "outputs": []
  },
  {
   "cell_type": "code",
   "source": [
    "def create_dataset(dataset, look_back=1):\n",
    "    X, Y = [], []\n",
    "    for i in range(len(dataset)-look_back-1):\n",
    "        a = dataset[i:(i+look_back), 0]\n",
    "        X.append(a)\n",
    "        Y.append(dataset[i + look_back, 0])\n",
    "    return np.array(X), np.array(Y)\n",
    "\n",
    "look_back = 3  # Number of days the model will look back\n",
    "X_train, Y_train = create_dataset(train, look_back)\n",
    "X_test, Y_test = create_dataset(test, look_back)\n",
    "\n",
    "# Reshape input [samples, time steps, features]\n",
    "X_train = np.reshape(X_train, (X_train.shape[0], 1, X_train.shape[1]))\n",
    "X_test = np.reshape(X_test, (X_test.shape[0], 1, X_test.shape[1]))"
   ],
   "metadata": {
    "id": "Ax7kz46aceiH",
    "executionInfo": {
     "status": "ok",
     "timestamp": 1711029458344,
     "user_tz": 0,
     "elapsed": 2,
     "user": {
      "displayName": "Tommy Pasley",
      "userId": "15823566978785309213"
     }
    },
    "ExecuteTime": {
     "end_time": "2024-03-25T12:06:33.234208Z",
     "start_time": "2024-03-25T12:06:33.218922Z"
    }
   },
   "execution_count": 20,
   "outputs": []
  },
  {
   "cell_type": "code",
   "source": [
    "model = Sequential([\n",
    "    LSTM(50, input_shape=(1, look_back)),\n",
    "    Dense(1)\n",
    "])\n",
    "model.compile(optimizer='adam', loss='mean_squared_error')\n",
    "\n",
    "# Fit the model\n",
    "model.fit(X_train, Y_train, epochs=100, batch_size=1, verbose=2)"
   ],
   "metadata": {
    "colab": {
     "base_uri": "https://localhost:8080/"
    },
    "id": "O5BEaXj5cgV2",
    "executionInfo": {
     "status": "ok",
     "timestamp": 1711029662805,
     "user_tz": 0,
     "elapsed": 204052,
     "user": {
      "displayName": "Tommy Pasley",
      "userId": "15823566978785309213"
     }
    },
    "outputId": "57a36839-cd24-4859-a11a-7b7e1121d89b",
    "ExecuteTime": {
     "end_time": "2024-03-25T12:07:38.609869Z",
     "start_time": "2024-03-25T12:06:33.235262Z"
    }
   },
   "execution_count": 21,
   "outputs": [
    {
     "name": "stdout",
     "output_type": "stream",
     "text": [
      "Epoch 1/100\n",
      "800/800 - 1s - loss: 0.0097 - 1s/epoch - 2ms/step\n",
      "Epoch 2/100\n",
      "800/800 - 1s - loss: 6.4644e-04 - 640ms/epoch - 800us/step\n",
      "Epoch 3/100\n",
      "800/800 - 1s - loss: 6.2337e-04 - 691ms/epoch - 864us/step\n",
      "Epoch 4/100\n",
      "800/800 - 1s - loss: 6.2374e-04 - 640ms/epoch - 800us/step\n",
      "Epoch 5/100\n",
      "800/800 - 1s - loss: 5.7250e-04 - 642ms/epoch - 802us/step\n",
      "Epoch 6/100\n",
      "800/800 - 1s - loss: 5.9197e-04 - 673ms/epoch - 841us/step\n",
      "Epoch 7/100\n",
      "800/800 - 1s - loss: 5.1559e-04 - 660ms/epoch - 825us/step\n",
      "Epoch 8/100\n",
      "800/800 - 1s - loss: 5.2514e-04 - 609ms/epoch - 761us/step\n",
      "Epoch 9/100\n",
      "800/800 - 1s - loss: 5.2751e-04 - 675ms/epoch - 844us/step\n",
      "Epoch 10/100\n",
      "800/800 - 1s - loss: 5.0080e-04 - 659ms/epoch - 824us/step\n",
      "Epoch 11/100\n",
      "800/800 - 1s - loss: 4.7479e-04 - 603ms/epoch - 754us/step\n",
      "Epoch 12/100\n",
      "800/800 - 1s - loss: 4.9927e-04 - 603ms/epoch - 753us/step\n",
      "Epoch 13/100\n",
      "800/800 - 1s - loss: 4.7323e-04 - 607ms/epoch - 759us/step\n",
      "Epoch 14/100\n",
      "800/800 - 1s - loss: 5.0147e-04 - 597ms/epoch - 746us/step\n",
      "Epoch 15/100\n",
      "800/800 - 1s - loss: 4.8830e-04 - 597ms/epoch - 746us/step\n",
      "Epoch 16/100\n",
      "800/800 - 1s - loss: 4.4436e-04 - 608ms/epoch - 760us/step\n",
      "Epoch 17/100\n",
      "800/800 - 1s - loss: 4.5713e-04 - 594ms/epoch - 743us/step\n",
      "Epoch 18/100\n",
      "800/800 - 1s - loss: 4.8416e-04 - 596ms/epoch - 745us/step\n",
      "Epoch 19/100\n",
      "800/800 - 1s - loss: 4.5554e-04 - 614ms/epoch - 767us/step\n",
      "Epoch 20/100\n",
      "800/800 - 1s - loss: 4.4175e-04 - 604ms/epoch - 754us/step\n",
      "Epoch 21/100\n",
      "800/800 - 1s - loss: 4.7145e-04 - 601ms/epoch - 751us/step\n",
      "Epoch 22/100\n",
      "800/800 - 1s - loss: 4.6630e-04 - 607ms/epoch - 758us/step\n",
      "Epoch 23/100\n",
      "800/800 - 1s - loss: 4.5713e-04 - 605ms/epoch - 756us/step\n",
      "Epoch 24/100\n",
      "800/800 - 1s - loss: 4.4057e-04 - 597ms/epoch - 746us/step\n",
      "Epoch 25/100\n",
      "800/800 - 1s - loss: 5.0986e-04 - 596ms/epoch - 745us/step\n",
      "Epoch 26/100\n",
      "800/800 - 1s - loss: 4.5363e-04 - 605ms/epoch - 757us/step\n",
      "Epoch 27/100\n",
      "800/800 - 1s - loss: 4.6300e-04 - 599ms/epoch - 749us/step\n",
      "Epoch 28/100\n",
      "800/800 - 1s - loss: 4.6609e-04 - 607ms/epoch - 759us/step\n",
      "Epoch 29/100\n",
      "800/800 - 1s - loss: 4.6818e-04 - 606ms/epoch - 757us/step\n",
      "Epoch 30/100\n",
      "800/800 - 1s - loss: 4.5166e-04 - 602ms/epoch - 752us/step\n",
      "Epoch 31/100\n",
      "800/800 - 1s - loss: 4.5384e-04 - 595ms/epoch - 744us/step\n",
      "Epoch 32/100\n",
      "800/800 - 1s - loss: 4.3953e-04 - 600ms/epoch - 750us/step\n",
      "Epoch 33/100\n",
      "800/800 - 1s - loss: 4.6215e-04 - 601ms/epoch - 751us/step\n",
      "Epoch 34/100\n",
      "800/800 - 1s - loss: 4.7628e-04 - 599ms/epoch - 748us/step\n",
      "Epoch 35/100\n",
      "800/800 - 1s - loss: 4.3877e-04 - 602ms/epoch - 753us/step\n",
      "Epoch 36/100\n",
      "800/800 - 1s - loss: 4.3631e-04 - 605ms/epoch - 756us/step\n",
      "Epoch 37/100\n",
      "800/800 - 1s - loss: 4.8200e-04 - 596ms/epoch - 745us/step\n",
      "Epoch 38/100\n",
      "800/800 - 1s - loss: 4.3962e-04 - 603ms/epoch - 754us/step\n",
      "Epoch 39/100\n",
      "800/800 - 1s - loss: 4.6316e-04 - 603ms/epoch - 753us/step\n",
      "Epoch 40/100\n",
      "800/800 - 1s - loss: 4.3797e-04 - 598ms/epoch - 747us/step\n",
      "Epoch 41/100\n",
      "800/800 - 1s - loss: 4.0853e-04 - 593ms/epoch - 741us/step\n",
      "Epoch 42/100\n",
      "800/800 - 1s - loss: 4.3330e-04 - 619ms/epoch - 774us/step\n",
      "Epoch 43/100\n",
      "800/800 - 1s - loss: 4.4240e-04 - 628ms/epoch - 785us/step\n",
      "Epoch 44/100\n",
      "800/800 - 1s - loss: 4.3912e-04 - 674ms/epoch - 843us/step\n",
      "Epoch 45/100\n",
      "800/800 - 1s - loss: 4.6854e-04 - 663ms/epoch - 829us/step\n",
      "Epoch 46/100\n",
      "800/800 - 1s - loss: 4.2758e-04 - 680ms/epoch - 850us/step\n",
      "Epoch 47/100\n",
      "800/800 - 1s - loss: 4.6189e-04 - 620ms/epoch - 775us/step\n",
      "Epoch 48/100\n",
      "800/800 - 1s - loss: 4.3002e-04 - 664ms/epoch - 830us/step\n",
      "Epoch 49/100\n",
      "800/800 - 1s - loss: 4.3287e-04 - 656ms/epoch - 820us/step\n",
      "Epoch 50/100\n",
      "800/800 - 1s - loss: 4.4124e-04 - 614ms/epoch - 768us/step\n",
      "Epoch 51/100\n",
      "800/800 - 1s - loss: 4.4253e-04 - 618ms/epoch - 773us/step\n",
      "Epoch 52/100\n",
      "800/800 - 1s - loss: 4.4325e-04 - 624ms/epoch - 780us/step\n",
      "Epoch 53/100\n",
      "800/800 - 1s - loss: 4.1772e-04 - 625ms/epoch - 781us/step\n",
      "Epoch 54/100\n",
      "800/800 - 1s - loss: 4.2791e-04 - 813ms/epoch - 1ms/step\n",
      "Epoch 55/100\n",
      "800/800 - 1s - loss: 4.3946e-04 - 752ms/epoch - 940us/step\n",
      "Epoch 56/100\n",
      "800/800 - 1s - loss: 4.6164e-04 - 663ms/epoch - 829us/step\n",
      "Epoch 57/100\n",
      "800/800 - 1s - loss: 4.5436e-04 - 670ms/epoch - 837us/step\n",
      "Epoch 58/100\n",
      "800/800 - 1s - loss: 4.2639e-04 - 720ms/epoch - 900us/step\n",
      "Epoch 59/100\n",
      "800/800 - 1s - loss: 4.1695e-04 - 714ms/epoch - 892us/step\n",
      "Epoch 60/100\n",
      "800/800 - 1s - loss: 4.4243e-04 - 865ms/epoch - 1ms/step\n",
      "Epoch 61/100\n",
      "800/800 - 1s - loss: 4.1947e-04 - 804ms/epoch - 1ms/step\n",
      "Epoch 62/100\n",
      "800/800 - 1s - loss: 4.3740e-04 - 657ms/epoch - 822us/step\n",
      "Epoch 63/100\n",
      "800/800 - 1s - loss: 4.3112e-04 - 702ms/epoch - 878us/step\n",
      "Epoch 64/100\n",
      "800/800 - 1s - loss: 4.1875e-04 - 779ms/epoch - 973us/step\n",
      "Epoch 65/100\n",
      "800/800 - 1s - loss: 4.4084e-04 - 725ms/epoch - 907us/step\n",
      "Epoch 66/100\n",
      "800/800 - 1s - loss: 4.4714e-04 - 782ms/epoch - 978us/step\n",
      "Epoch 67/100\n",
      "800/800 - 1s - loss: 4.3123e-04 - 731ms/epoch - 913us/step\n",
      "Epoch 68/100\n",
      "800/800 - 1s - loss: 4.3764e-04 - 972ms/epoch - 1ms/step\n",
      "Epoch 69/100\n",
      "800/800 - 1s - loss: 4.1251e-04 - 788ms/epoch - 984us/step\n",
      "Epoch 70/100\n",
      "800/800 - 1s - loss: 4.4055e-04 - 740ms/epoch - 925us/step\n",
      "Epoch 71/100\n",
      "800/800 - 1s - loss: 4.2904e-04 - 631ms/epoch - 789us/step\n",
      "Epoch 72/100\n",
      "800/800 - 1s - loss: 4.3398e-04 - 616ms/epoch - 770us/step\n",
      "Epoch 73/100\n",
      "800/800 - 1s - loss: 4.3367e-04 - 609ms/epoch - 761us/step\n",
      "Epoch 74/100\n",
      "800/800 - 1s - loss: 4.2570e-04 - 604ms/epoch - 755us/step\n",
      "Epoch 75/100\n",
      "800/800 - 1s - loss: 4.3689e-04 - 606ms/epoch - 757us/step\n",
      "Epoch 76/100\n",
      "800/800 - 1s - loss: 4.2698e-04 - 616ms/epoch - 771us/step\n",
      "Epoch 77/100\n",
      "800/800 - 1s - loss: 4.2659e-04 - 614ms/epoch - 767us/step\n",
      "Epoch 78/100\n",
      "800/800 - 1s - loss: 4.3537e-04 - 603ms/epoch - 754us/step\n",
      "Epoch 79/100\n",
      "800/800 - 1s - loss: 4.2171e-04 - 610ms/epoch - 763us/step\n",
      "Epoch 80/100\n",
      "800/800 - 1s - loss: 4.4204e-04 - 606ms/epoch - 758us/step\n",
      "Epoch 81/100\n",
      "800/800 - 1s - loss: 4.2904e-04 - 606ms/epoch - 758us/step\n",
      "Epoch 82/100\n",
      "800/800 - 1s - loss: 4.3655e-04 - 615ms/epoch - 769us/step\n",
      "Epoch 83/100\n",
      "800/800 - 1s - loss: 4.2751e-04 - 606ms/epoch - 757us/step\n",
      "Epoch 84/100\n",
      "800/800 - 1s - loss: 4.4423e-04 - 605ms/epoch - 756us/step\n",
      "Epoch 85/100\n",
      "800/800 - 1s - loss: 4.2103e-04 - 610ms/epoch - 763us/step\n",
      "Epoch 86/100\n",
      "800/800 - 1s - loss: 4.1877e-04 - 611ms/epoch - 764us/step\n",
      "Epoch 87/100\n",
      "800/800 - 1s - loss: 4.1721e-04 - 609ms/epoch - 761us/step\n",
      "Epoch 88/100\n",
      "800/800 - 1s - loss: 4.2745e-04 - 613ms/epoch - 766us/step\n",
      "Epoch 89/100\n",
      "800/800 - 1s - loss: 4.2266e-04 - 621ms/epoch - 777us/step\n",
      "Epoch 90/100\n",
      "800/800 - 1s - loss: 4.1380e-04 - 608ms/epoch - 760us/step\n",
      "Epoch 91/100\n",
      "800/800 - 1s - loss: 4.1615e-04 - 618ms/epoch - 772us/step\n",
      "Epoch 92/100\n",
      "800/800 - 1s - loss: 4.0956e-04 - 637ms/epoch - 796us/step\n",
      "Epoch 93/100\n",
      "800/800 - 1s - loss: 4.2316e-04 - 642ms/epoch - 802us/step\n",
      "Epoch 94/100\n",
      "800/800 - 1s - loss: 4.2007e-04 - 643ms/epoch - 803us/step\n",
      "Epoch 95/100\n",
      "800/800 - 1s - loss: 4.3825e-04 - 626ms/epoch - 783us/step\n",
      "Epoch 96/100\n",
      "800/800 - 1s - loss: 4.2065e-04 - 638ms/epoch - 798us/step\n",
      "Epoch 97/100\n",
      "800/800 - 1s - loss: 4.1267e-04 - 619ms/epoch - 773us/step\n",
      "Epoch 98/100\n",
      "800/800 - 1s - loss: 4.1756e-04 - 611ms/epoch - 764us/step\n",
      "Epoch 99/100\n",
      "800/800 - 1s - loss: 4.5357e-04 - 632ms/epoch - 790us/step\n",
      "Epoch 100/100\n",
      "800/800 - 1s - loss: 4.1739e-04 - 624ms/epoch - 780us/step\n"
     ]
    },
    {
     "data": {
      "text/plain": "<keras.src.callbacks.History at 0x1f5dfbfab50>"
     },
     "execution_count": 21,
     "metadata": {},
     "output_type": "execute_result"
    }
   ]
  },
  {
   "cell_type": "code",
   "source": [
    "train_predict = model.predict(X_train)\n",
    "test_predict = model.predict(X_test)\n",
    "\n",
    "# Invert predictions to original scale\n",
    "train_predict = scaler.inverse_transform(train_predict)\n",
    "Y_train_inv = scaler.inverse_transform([Y_train])\n",
    "test_predict = scaler.inverse_transform(test_predict)\n",
    "Y_test_inv = scaler.inverse_transform([Y_test])"
   ],
   "metadata": {
    "colab": {
     "base_uri": "https://localhost:8080/"
    },
    "id": "_5p61HY9cikI",
    "executionInfo": {
     "status": "ok",
     "timestamp": 1711029663884,
     "user_tz": 0,
     "elapsed": 1088,
     "user": {
      "displayName": "Tommy Pasley",
      "userId": "15823566978785309213"
     }
    },
    "outputId": "6bc52489-9438-4bea-8e9a-b766740b3df3",
    "ExecuteTime": {
     "end_time": "2024-03-25T12:07:39.063612Z",
     "start_time": "2024-03-25T12:07:38.610859Z"
    }
   },
   "execution_count": 22,
   "outputs": [
    {
     "name": "stdout",
     "output_type": "stream",
     "text": [
      "25/25 [==============================] - 0s 798us/step\n",
      "7/7 [==============================] - 0s 936us/step\n"
     ]
    }
   ]
  },
  {
   "cell_type": "code",
   "source": [
    "train_score = np.sqrt(mean_squared_error(Y_train_inv[0], train_predict[:,0]))\n",
    "print(f'Train Score: {train_score:.2f} RMSE')\n",
    "test_score = np.sqrt(mean_squared_error(Y_test_inv[0], test_predict[:,0]))\n",
    "print(f'Test Score: {test_score:.2f} RMSE')"
   ],
   "metadata": {
    "colab": {
     "base_uri": "https://localhost:8080/"
    },
    "id": "XFcVSu7KckYE",
    "executionInfo": {
     "status": "ok",
     "timestamp": 1711029663884,
     "user_tz": 0,
     "elapsed": 6,
     "user": {
      "displayName": "Tommy Pasley",
      "userId": "15823566978785309213"
     }
    },
    "outputId": "0d663f82-78b2-4055-a0bb-db2d0e197d0d",
    "ExecuteTime": {
     "end_time": "2024-03-25T12:07:39.078745Z",
     "start_time": "2024-03-25T12:07:39.064277Z"
    }
   },
   "execution_count": 23,
   "outputs": [
    {
     "name": "stdout",
     "output_type": "stream",
     "text": [
      "Train Score: 4.77 RMSE\n",
      "Test Score: 6.20 RMSE\n"
     ]
    }
   ]
  },
  {
   "cell_type": "code",
   "source": [
    "# Shift train predictions for plotting\n",
    "trainPredictPlot = np.empty_like(data_normalized)\n",
    "trainPredictPlot[:, :] = np.nan\n",
    "trainPredictPlot[look_back:len(train_predict)+look_back, :] = train_predict\n",
    "\n",
    "# Shift test predictions for plotting\n",
    "testPredictPlot = np.empty_like(data_normalized)\n",
    "testPredictPlot[:, :] = np.nan\n",
    "testPredictPlot[len(train_predict)+(look_back*2)+1:len(data_normalized)-1, :] = test_predict\n",
    "\n",
    "# Plot baseline and predictions\n",
    "plt.figure(figsize=(10,6))\n",
    "plt.plot(scaler.inverse_transform(data_normalized), label='Original Data')\n",
    "plt.plot(trainPredictPlot, label='Training Predictions')\n",
    "plt.plot(testPredictPlot, label='Testing Predictions')\n",
    "plt.legend()\n",
    "plt"
   ],
   "metadata": {
    "collapsed": false,
    "ExecuteTime": {
     "end_time": "2024-03-25T12:07:39.277726Z",
     "start_time": "2024-03-25T12:07:39.079627Z"
    }
   },
   "execution_count": 24,
   "outputs": [
    {
     "data": {
      "text/plain": "<module 'matplotlib.pyplot' from 'C:\\\\Users\\\\tpasl\\\\miniconda3\\\\envs\\\\tensorflow\\\\lib\\\\site-packages\\\\matplotlib\\\\pyplot.py'>"
     },
     "execution_count": 24,
     "metadata": {},
     "output_type": "execute_result"
    },
    {
     "data": {
      "text/plain": "<Figure size 1000x600 with 1 Axes>",
      "image/png": "[encoded data removed]"
     },
     "metadata": {},
     "output_type": "display_data"
    }
   ]
  },
  {
   "cell_type": "code",
   "outputs": [
    {
     "name": "stdout",
     "output_type": "stream",
     "text": [
      "INFO:tensorflow:Assets written to: ../Models (Unfinished)/LSTM_Open_MSFT\\assets\n"
     ]
    },
    {
     "name": "stderr",
     "output_type": "stream",
     "text": [
      "INFO:tensorflow:Assets written to: ../Models (Unfinished)/LSTM_Open_MSFT\\assets\n"
     ]
    }
   ],
   "source": [
    "model.save(f'../Models (Unfinished)/LSTM_{feature_prediction}_{ticker}')"
   ],
   "metadata": {
    "colab": {
     "base_uri": "https://localhost:8080/",
     "height": 540
    },
    "id": "-jmx0uApclwW",
    "executionInfo": {
     "status": "ok",
     "timestamp": 1711029664569,
     "user_tz": 0,
     "elapsed": 689,
     "user": {
      "displayName": "Tommy Pasley",
      "userId": "15823566978785309213"
     }
    },
    "outputId": "0b97dea1-fb1b-439c-85cd-ee5847b552a7",
    "ExecuteTime": {
     "end_time": "2024-03-25T12:09:10.435101Z",
     "start_time": "2024-03-25T12:09:08.971250Z"
    }
   },
   "execution_count": 26
  }
 ]
}
