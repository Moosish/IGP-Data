{
 "cells": [
  {
   "cell_type": "markdown",
   "source": [
    "Exponential smoothing methods are renowned for being robust to small structural changes in the time series. The Holt-Winters method, which extends exponential smoothing to capture seasonality, is particularly useful for data with a clear seasonal pattern."
   ],
   "metadata": {
    "collapsed": false
   },
   "id": "648575bb212e15d0"
  },
  {
   "cell_type": "code",
   "execution_count": 8,
   "id": "initial_id",
   "metadata": {
    "collapsed": true,
    "ExecuteTime": {
     "end_time": "2024-04-16T14:57:19.804969Z",
     "start_time": "2024-04-16T14:57:19.563230Z"
    }
   },
   "outputs": [
    {
     "ename": "TypeError",
     "evalue": "This is a python-holidays entity loader class. For entity inheritance purposes please import a class you want to derive from directly: e.g., `from holidays.countries import Entity` or `from holidays.financial import Entity`.",
     "output_type": "error",
     "traceback": [
      "\u001B[1;31m---------------------------------------------------------------------------\u001B[0m",
      "\u001B[1;31mTypeError\u001B[0m                                 Traceback (most recent call last)",
      "Cell \u001B[1;32mIn[8], line 1\u001B[0m\n\u001B[1;32m----> 1\u001B[0m \u001B[38;5;28;01mfrom\u001B[39;00m \u001B[38;5;21;01mfbprophet\u001B[39;00m \u001B[38;5;28;01mimport\u001B[39;00m Prophet\n\u001B[0;32m      2\u001B[0m \u001B[38;5;28;01mimport\u001B[39;00m \u001B[38;5;21;01myfinance\u001B[39;00m \u001B[38;5;28;01mas\u001B[39;00m \u001B[38;5;21;01myf\u001B[39;00m\n\u001B[0;32m      3\u001B[0m \u001B[38;5;28;01mimport\u001B[39;00m \u001B[38;5;21;01mpandas\u001B[39;00m \u001B[38;5;28;01mas\u001B[39;00m \u001B[38;5;21;01mpd\u001B[39;00m\n",
      "File \u001B[1;32m~\\miniconda3\\envs\\tensorflow\\lib\\site-packages\\fbprophet\\__init__.py:8\u001B[0m\n\u001B[0;32m      1\u001B[0m \u001B[38;5;66;03m# Copyright (c) 2017-present, Facebook, Inc.\u001B[39;00m\n\u001B[0;32m      2\u001B[0m \u001B[38;5;66;03m# All rights reserved.\u001B[39;00m\n\u001B[0;32m      3\u001B[0m \u001B[38;5;66;03m#\u001B[39;00m\n\u001B[0;32m      4\u001B[0m \u001B[38;5;66;03m# This source code is licensed under the BSD-style license found in the\u001B[39;00m\n\u001B[0;32m      5\u001B[0m \u001B[38;5;66;03m# LICENSE file in the root directory of this source tree. An additional grant \u001B[39;00m\n\u001B[0;32m      6\u001B[0m \u001B[38;5;66;03m# of patent rights can be found in the PATENTS file in the same directory.\u001B[39;00m\n\u001B[1;32m----> 8\u001B[0m \u001B[38;5;28;01mfrom\u001B[39;00m \u001B[38;5;21;01mfbprophet\u001B[39;00m\u001B[38;5;21;01m.\u001B[39;00m\u001B[38;5;21;01mforecaster\u001B[39;00m \u001B[38;5;28;01mimport\u001B[39;00m Prophet\n\u001B[0;32m     10\u001B[0m __version__ \u001B[38;5;241m=\u001B[39m \u001B[38;5;124m'\u001B[39m\u001B[38;5;124m0.7.1\u001B[39m\u001B[38;5;124m'\u001B[39m\n",
      "File \u001B[1;32m~\\miniconda3\\envs\\tensorflow\\lib\\site-packages\\fbprophet\\forecaster.py:17\u001B[0m\n\u001B[0;32m     14\u001B[0m \u001B[38;5;28;01mimport\u001B[39;00m \u001B[38;5;21;01mnumpy\u001B[39;00m \u001B[38;5;28;01mas\u001B[39;00m \u001B[38;5;21;01mnp\u001B[39;00m\n\u001B[0;32m     15\u001B[0m \u001B[38;5;28;01mimport\u001B[39;00m \u001B[38;5;21;01mpandas\u001B[39;00m \u001B[38;5;28;01mas\u001B[39;00m \u001B[38;5;21;01mpd\u001B[39;00m\n\u001B[1;32m---> 17\u001B[0m \u001B[38;5;28;01mfrom\u001B[39;00m \u001B[38;5;21;01mfbprophet\u001B[39;00m\u001B[38;5;21;01m.\u001B[39;00m\u001B[38;5;21;01mmake_holidays\u001B[39;00m \u001B[38;5;28;01mimport\u001B[39;00m get_holiday_names, make_holidays_df\n\u001B[0;32m     18\u001B[0m \u001B[38;5;28;01mfrom\u001B[39;00m \u001B[38;5;21;01mfbprophet\u001B[39;00m\u001B[38;5;21;01m.\u001B[39;00m\u001B[38;5;21;01mmodels\u001B[39;00m \u001B[38;5;28;01mimport\u001B[39;00m StanBackendEnum\n\u001B[0;32m     19\u001B[0m \u001B[38;5;28;01mfrom\u001B[39;00m \u001B[38;5;21;01mfbprophet\u001B[39;00m\u001B[38;5;21;01m.\u001B[39;00m\u001B[38;5;21;01mplot\u001B[39;00m \u001B[38;5;28;01mimport\u001B[39;00m (plot, plot_components)\n",
      "File \u001B[1;32m~\\miniconda3\\envs\\tensorflow\\lib\\site-packages\\fbprophet\\make_holidays.py:14\u001B[0m\n\u001B[0;32m     11\u001B[0m \u001B[38;5;28;01mimport\u001B[39;00m \u001B[38;5;21;01mnumpy\u001B[39;00m \u001B[38;5;28;01mas\u001B[39;00m \u001B[38;5;21;01mnp\u001B[39;00m\n\u001B[0;32m     12\u001B[0m \u001B[38;5;28;01mimport\u001B[39;00m \u001B[38;5;21;01mpandas\u001B[39;00m \u001B[38;5;28;01mas\u001B[39;00m \u001B[38;5;21;01mpd\u001B[39;00m\n\u001B[1;32m---> 14\u001B[0m \u001B[38;5;28;01mimport\u001B[39;00m \u001B[38;5;21;01mfbprophet\u001B[39;00m\u001B[38;5;21;01m.\u001B[39;00m\u001B[38;5;21;01mhdays\u001B[39;00m \u001B[38;5;28;01mas\u001B[39;00m \u001B[38;5;21;01mhdays_part2\u001B[39;00m\n\u001B[0;32m     15\u001B[0m \u001B[38;5;28;01mimport\u001B[39;00m \u001B[38;5;21;01mholidays\u001B[39;00m \u001B[38;5;28;01mas\u001B[39;00m \u001B[38;5;21;01mhdays_part1\u001B[39;00m\n\u001B[0;32m     18\u001B[0m \u001B[38;5;28;01mdef\u001B[39;00m \u001B[38;5;21mget_holiday_names\u001B[39m(country):\n",
      "File \u001B[1;32m~\\miniconda3\\envs\\tensorflow\\lib\\site-packages\\fbprophet\\hdays.py:924\u001B[0m\n\u001B[0;32m    917\u001B[0m     \u001B[38;5;28;01mpass\u001B[39;00m\n\u001B[0;32m    920\u001B[0m \u001B[38;5;66;03m# ------------ Holidays in Turkey---------------------\u001B[39;00m\n\u001B[0;32m    921\u001B[0m \u001B[38;5;66;03m# This is now in Holidays, but with alias TR instead of the TU that we used.\u001B[39;00m\n\u001B[0;32m    922\u001B[0m \u001B[38;5;66;03m# Include TU as an alias for backwards compatibility.\u001B[39;00m\n\u001B[1;32m--> 924\u001B[0m \u001B[38;5;28;01mclass\u001B[39;00m \u001B[38;5;21;01mTU\u001B[39;00m(Turkey):\n\u001B[0;32m    925\u001B[0m     \u001B[38;5;28;01mpass\u001B[39;00m\n\u001B[0;32m    928\u001B[0m \u001B[38;5;66;03m# ------------ Holidays in Pakistan---------------------\u001B[39;00m\n",
      "File \u001B[1;32m~\\miniconda3\\envs\\tensorflow\\lib\\site-packages\\holidays\\registry.py:188\u001B[0m, in \u001B[0;36mEntityLoader.__init__\u001B[1;34m(self, path, *args, **kwargs)\u001B[0m\n\u001B[0;32m    186\u001B[0m \u001B[38;5;250m\u001B[39m\u001B[38;5;124;03m\"\"\"Set up a lazy loader.\"\"\"\u001B[39;00m\n\u001B[0;32m    187\u001B[0m \u001B[38;5;28;01mif\u001B[39;00m args:\n\u001B[1;32m--> 188\u001B[0m     \u001B[38;5;28;01mraise\u001B[39;00m \u001B[38;5;167;01mTypeError\u001B[39;00m(\n\u001B[0;32m    189\u001B[0m         \u001B[38;5;124m\"\u001B[39m\u001B[38;5;124mThis is a python-holidays entity loader class. \u001B[39m\u001B[38;5;124m\"\u001B[39m\n\u001B[0;32m    190\u001B[0m         \u001B[38;5;124m\"\u001B[39m\u001B[38;5;124mFor entity inheritance purposes please import a class you \u001B[39m\u001B[38;5;124m\"\u001B[39m\n\u001B[0;32m    191\u001B[0m         \u001B[38;5;124m\"\u001B[39m\u001B[38;5;124mwant to derive from directly: e.g., \u001B[39m\u001B[38;5;124m\"\u001B[39m\n\u001B[0;32m    192\u001B[0m         \u001B[38;5;124m\"\u001B[39m\u001B[38;5;124m`from holidays.countries import Entity` or \u001B[39m\u001B[38;5;124m\"\u001B[39m\n\u001B[0;32m    193\u001B[0m         \u001B[38;5;124m\"\u001B[39m\u001B[38;5;124m`from holidays.financial import Entity`.\u001B[39m\u001B[38;5;124m\"\u001B[39m\n\u001B[0;32m    194\u001B[0m     )\n\u001B[0;32m    196\u001B[0m entity_path \u001B[38;5;241m=\u001B[39m path\u001B[38;5;241m.\u001B[39msplit(\u001B[38;5;124m\"\u001B[39m\u001B[38;5;124m.\u001B[39m\u001B[38;5;124m\"\u001B[39m)\n\u001B[0;32m    198\u001B[0m \u001B[38;5;28mself\u001B[39m\u001B[38;5;241m.\u001B[39mentity \u001B[38;5;241m=\u001B[39m \u001B[38;5;28;01mNone\u001B[39;00m\n",
      "\u001B[1;31mTypeError\u001B[0m: This is a python-holidays entity loader class. For entity inheritance purposes please import a class you want to derive from directly: e.g., `from holidays.countries import Entity` or `from holidays.financial import Entity`."
     ]
    }
   ],
   "source": [
    "from fbprophet import Prophet\n",
    "import yfinance as yf\n",
    "import pandas as pd\n",
    "import numpy as np\n",
    "from sklearn.metrics import mean_squared_error, mean_absolute_error\n",
    "\n",
    "# Load historical data\n",
    "data = yf.download('AAPL', start='2015-01-01', end='2023-01-01')\n",
    "df = data.reset_index()[['Date', 'Close']]\n",
    "df.rename(columns={'Date': 'ds', 'Close': 'y'}, inplace=True)\n",
    "\n",
    "# Fit the Prophet model without considering holidays\n",
    "model = Prophet(daily_seasonality=True)  # Ensure daily seasonality is handled, if appropriate\n",
    "model.fit(df)\n",
    "\n",
    "# Make a future dataframe for predictions; here, let's predict for the next 365 days\n",
    "future = model.make_future_dataframe(periods=365, freq='D')\n",
    "\n",
    "# Generate forecasts\n",
    "forecast = model.predict(future)\n",
    "\n",
    "# Plot the forecast\n",
    "fig1 = model.plot(forecast)\n",
    "\n",
    "# Assuming you want to evaluate using the last year of actual data for now\n",
    "# Note: Actual comparison should use out-of-sample data, adjust as needed\n",
    "actual = df.set_index('ds')['y'][-365:]  # Last 365 days from the loaded data\n",
    "predicted_dates = forecast.set_index('ds')['yhat'][-365:]  # Corresponding predicted data\n",
    "\n",
    "# Ensure alignment by comparing the same dates\n",
    "actual_aligned, predicted_aligned = actual.align(predicted_dates, join='inner')\n",
    "\n",
    "# Define the function to calculate metrics\n",
    "def calculate_metrics(actual, predicted):\n",
    "    rmse = np.sqrt(mean_squared_error(actual, predicted))\n",
    "    mae = mean_absolute_error(actual, predicted)\n",
    "    mape = np.mean(np.abs((actual - predicted) / actual)) * 100\n",
    "    return {'RMSE': rmse, 'MAE': mae, 'MAPE': mape}\n",
    "\n",
    "# Calculate evaluation metrics\n",
    "metrics = calculate_metrics(actual_aligned, predicted_aligned)\n",
    "print(\"Evaluation Metrics:\", metrics)\n"
   ]
  },
  {
   "cell_type": "code",
   "outputs": [],
   "source": [],
   "metadata": {
    "collapsed": false
   },
   "id": "ee8e432ad5c19790"
  }
 ],
 "metadata": {
  "kernelspec": {
   "display_name": "Python 3",
   "language": "python",
   "name": "python3"
  },
  "language_info": {
   "codemirror_mode": {
    "name": "ipython",
    "version": 2
   },
   "file_extension": ".py",
   "mimetype": "text/x-python",
   "name": "python",
   "nbconvert_exporter": "python",
   "pygments_lexer": "ipython2",
   "version": "2.7.6"
  }
 },
 "nbformat": 4,
 "nbformat_minor": 5
}
