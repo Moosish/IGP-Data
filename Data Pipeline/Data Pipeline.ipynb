{
 "nbformat": 4,
 "nbformat_minor": 0,
 "metadata": {
  "colab": {
   "provenance": [],
   "authorship_tag": "ABX9TyPPDHP0ZuJLkN7qV57QUs8I"
  },
  "kernelspec": {
   "name": "python3",
   "language": "python",
   "display_name": "Python 3 (ipykernel)"
  },
  "language_info": {
   "name": "python"
  }
 },
 "cells": [
  {
   "cell_type": "code",
   "source": [
    "ticker = 'MSFT'\n",
    "start_date = \"2020-01-01\"\n",
    "end_date = \"2023-12-31\""
   ],
   "metadata": {
    "id": "vfW5_5QLDCdk",
    "executionInfo": {
     "status": "ok",
     "timestamp": 1711028402087,
     "user_tz": 0,
     "elapsed": 248,
     "user": {
      "displayName": "Tommy Pasley",
      "userId": "15823566978785309213"
     }
    },
    "ExecuteTime": {
     "end_time": "2024-03-21T15:51:38.663606Z",
     "start_time": "2024-03-21T15:51:38.660593Z"
    }
   },
   "execution_count": 1,
   "outputs": []
  },
  {
   "cell_type": "code",
   "source": [
    "import yfinance as yf\n",
    "import pandas as pd\n",
    "import os\n",
    "\n",
    "def fetch_and_prepare_stock_data(ticker, start_date, end_date, drive_path):\n",
    "    stock_data = yf.download(ticker, start=start_date, end=end_date)\n",
    "    preprocessed_data = stock_data.dropna()\n",
    "\n",
    "    if not os.path.exists(drive_path):\n",
    "        os.makedirs(drive_path)\n",
    "    # Include the path to your Google Drive directory\n",
    "    csv_filename = f\"{drive_path}/{ticker}_stock_data_{start_date}_to_{end_date}.csv\"\n",
    "    preprocessed_data.to_csv(csv_filename)\n",
    "\n",
    "    return csv_filename\n",
    "\n",
    "drive_path = f\"/IGP Notebooks/Prepared Data/{ticker}\"\n",
    "\n",
    "csv_file_path = fetch_and_prepare_stock_data(ticker, start_date, end_date, drive_path)\n",
    "print(f\"Data saved to {csv_file_path}\")\n"
   ],
   "metadata": {
    "colab": {
     "base_uri": "https://localhost:8080/"
    },
    "id": "MvRfQPQyIpbJ",
    "executionInfo": {
     "status": "ok",
     "timestamp": 1711028404275,
     "user_tz": 0,
     "elapsed": 779,
     "user": {
      "displayName": "Tommy Pasley",
      "userId": "15823566978785309213"
     }
    },
    "outputId": "3ebd5745-39c1-4fa8-f407-da46e1d1b534",
    "ExecuteTime": {
     "end_time": "2024-03-21T16:32:31.646007Z",
     "start_time": "2024-03-21T16:32:31.543717Z"
    }
   },
   "execution_count": 3,
   "outputs": [
    {
     "name": "stderr",
     "output_type": "stream",
     "text": [
      "[*********************100%%**********************]  1 of 1 completed"
     ]
    },
    {
     "name": "stdout",
     "output_type": "stream",
     "text": [
      "Data saved to /IGP Notebooks/Prepared Data/MSFT/MSFT_stock_data_2020-01-01_to_2023-12-31.csv\n"
     ]
    },
    {
     "name": "stderr",
     "output_type": "stream",
     "text": [
      "\n"
     ]
    }
   ]
  }
 ]
}
