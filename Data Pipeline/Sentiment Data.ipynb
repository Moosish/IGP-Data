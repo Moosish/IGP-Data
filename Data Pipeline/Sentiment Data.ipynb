{
 "nbformat": 4,
 "nbformat_minor": 0,
 "metadata": {
  "colab": {
   "provenance": [],
   "authorship_tag": "ABX9TyMixZqoCs6I1SN1oc3ptgGQ"
  },
  "kernelspec": {
   "name": "python3",
   "language": "python",
   "display_name": "Python 3 (ipykernel)"
  },
  "language_info": {
   "name": "python"
  }
 },
 "cells": [
  {
   "cell_type": "code",
   "execution_count": 1,
   "metadata": {
    "colab": {
     "base_uri": "https://localhost:8080/"
    },
    "id": "YbG6bDaSfodX",
    "executionInfo": {
     "status": "ok",
     "timestamp": 1710866406502,
     "user_tz": 0,
     "elapsed": 7211,
     "user": {
      "displayName": "Tommy Pasley",
      "userId": "15823566978785309213"
     }
    },
    "outputId": "eb95b9fe-d4a1-46d0-8928-b5554d0a2993",
    "ExecuteTime": {
     "end_time": "2024-03-21T15:52:30.125049Z",
     "start_time": "2024-03-21T15:52:28.572247Z"
    }
   },
   "outputs": [
    {
     "name": "stdout",
     "output_type": "stream",
     "text": [
      "Requirement already satisfied: requests in e:\\conda\\lib\\site-packages (2.31.0)\n",
      "Requirement already satisfied: beautifulsoup4 in e:\\conda\\lib\\site-packages (4.12.2)\n",
      "Requirement already satisfied: pandas in e:\\conda\\lib\\site-packages (2.2.1)\n",
      "Requirement already satisfied: charset-normalizer<4,>=2 in e:\\conda\\lib\\site-packages (from requests) (2.0.4)\n",
      "Requirement already satisfied: idna<4,>=2.5 in e:\\conda\\lib\\site-packages (from requests) (3.4)\n",
      "Requirement already satisfied: urllib3<3,>=1.21.1 in e:\\conda\\lib\\site-packages (from requests) (2.1.0)\n",
      "Requirement already satisfied: certifi>=2017.4.17 in e:\\conda\\lib\\site-packages (from requests) (2024.2.2)\n",
      "Requirement already satisfied: soupsieve>1.2 in e:\\conda\\lib\\site-packages (from beautifulsoup4) (2.5)\n",
      "Requirement already satisfied: numpy<2,>=1.26.0 in e:\\conda\\lib\\site-packages (from pandas) (1.26.4)\n",
      "Requirement already satisfied: python-dateutil>=2.8.2 in e:\\conda\\lib\\site-packages (from pandas) (2.8.2)\n",
      "Requirement already satisfied: pytz>=2020.1 in e:\\conda\\lib\\site-packages (from pandas) (2023.3.post1)\n",
      "Requirement already satisfied: tzdata>=2022.7 in e:\\conda\\lib\\site-packages (from pandas) (2023.3)\n",
      "Requirement already satisfied: six>=1.5 in e:\\conda\\lib\\site-packages (from python-dateutil>=2.8.2->pandas) (1.16.0)\n"
     ]
    }
   ],
   "source": [
    "!pip install requests beautifulsoup4 pandas"
   ]
  },
  {
   "cell_type": "code",
   "source": [
    "import requests\n",
    "from bs4 import BeautifulSoup\n",
    "import pandas as pd"
   ],
   "metadata": {
    "id": "gpChLWDAgGk6",
    "executionInfo": {
     "status": "ok",
     "timestamp": 1710866406503,
     "user_tz": 0,
     "elapsed": 5,
     "user": {
      "displayName": "Tommy Pasley",
      "userId": "15823566978785309213"
     }
    },
    "ExecuteTime": {
     "end_time": "2024-03-21T15:52:38.246521Z",
     "start_time": "2024-03-21T15:52:38.243434Z"
    }
   },
   "execution_count": 3,
   "outputs": []
  },
  {
   "cell_type": "code",
   "source": [
    "ticker = 'MSFT'"
   ],
   "metadata": {
    "id": "nqz8FCzFj5kU",
    "executionInfo": {
     "status": "ok",
     "timestamp": 1710866406503,
     "user_tz": 0,
     "elapsed": 4,
     "user": {
      "displayName": "Tommy Pasley",
      "userId": "15823566978785309213"
     }
    },
    "ExecuteTime": {
     "end_time": "2024-03-21T15:52:38.674723Z",
     "start_time": "2024-03-21T15:52:38.672451Z"
    }
   },
   "execution_count": 4,
   "outputs": []
  },
  {
   "cell_type": "code",
   "source": [
    "def fetch_finviz_news(stock_symbol):\n",
    "    url = f\"https://finviz.com/quote.ashx?t={stock_symbol}\"\n",
    "    headers = {'User-Agent': 'Mozilla/5.0'}  # Some websites require a user-agent header\n",
    "    response = requests.get(url, headers=headers)\n",
    "\n",
    "    if response.status_code == 200:\n",
    "        soup = BeautifulSoup(response.content, 'html.parser')\n",
    "        headlines = []\n",
    "\n",
    "        # Attempt to locate the news table by its class. Update if the class name has changed.\n",
    "        news_table = soup.find('table', class_='fullview-news-outer')\n",
    "        if news_table:\n",
    "            for row in news_table.findAll('tr'):\n",
    "                try:\n",
    "                    text = row.a.text.strip() if row.a else 'No headline available'\n",
    "                    link = row.a['href'] if row.a else 'No link available'\n",
    "                    date = row.td.text.strip().split('\\n')[0] if row.td else 'No date available'\n",
    "                    headlines.append({'headline': text, 'link': link, 'date': date})\n",
    "                except AttributeError:\n",
    "                    continue  # Skip rows where expected elements are missing\n",
    "        else:\n",
    "            return \"News table not found.\"\n",
    "\n",
    "        return headlines\n",
    "    else:\n",
    "        return \"Failed to retrieve news.\""
   ],
   "metadata": {
    "id": "Uxud-AHghGjR",
    "executionInfo": {
     "status": "ok",
     "timestamp": 1710866406503,
     "user_tz": 0,
     "elapsed": 4,
     "user": {
      "displayName": "Tommy Pasley",
      "userId": "15823566978785309213"
     }
    },
    "ExecuteTime": {
     "end_time": "2024-03-21T15:52:39.165754Z",
     "start_time": "2024-03-21T15:52:39.160916Z"
    }
   },
   "execution_count": 5,
   "outputs": []
  },
  {
   "cell_type": "code",
   "source": [
    "# Fetch news for AAPL\n",
    "news = fetch_finviz_news(ticker)\n",
    "\n",
    "# Convert to DataFrame for easier viewing\n",
    "news_df = pd.DataFrame(news)\n",
    "\n",
    "# Display the first few rows\n",
    "print(news_df.head())"
   ],
   "metadata": {
    "colab": {
     "base_uri": "https://localhost:8080/"
    },
    "id": "WYV24GkfhK8m",
    "executionInfo": {
     "status": "ok",
     "timestamp": 1710866407065,
     "user_tz": 0,
     "elapsed": 566,
     "user": {
      "displayName": "Tommy Pasley",
      "userId": "15823566978785309213"
     }
    },
    "outputId": "30ed9296-f040-46df-dbd7-5d82e3081b62",
    "ExecuteTime": {
     "end_time": "2024-03-21T15:53:44.109387Z",
     "start_time": "2024-03-21T15:53:43.362063Z"
    }
   },
   "execution_count": 11,
   "outputs": [
    {
     "name": "stdout",
     "output_type": "stream",
     "text": [
      "                                            headline  \\\n",
      "0  Magnificent Seven Stocks To Buy And Watch: Nvi...   \n",
      "1  Today's Dow Jones Stocks To Watch: Apple Stock...   \n",
      "2  Stock Rally Keeps Going With Dow, S&P 500 At N...   \n",
      "3  The Hot Buzzword For Cybersecurity Stocks Isn'...   \n",
      "4  Justice Department files antitrust suit agains...   \n",
      "\n",
      "                                                link           date  \n",
      "0  https://finance.yahoo.com/m/4205eaa9-f620-3a0b...  Today 11:30AM  \n",
      "1  https://finance.yahoo.com/m/65b53896-faf4-3a06...        11:29AM  \n",
      "2  https://finance.yahoo.com/m/460b1bf5-53d3-3e09...        11:06AM  \n",
      "3  https://finance.yahoo.com/m/d9f19484-6677-31c9...        11:05AM  \n",
      "4  https://finance.yahoo.com/news/justice-departm...        10:55AM  \n"
     ]
    }
   ]
  },
  {
   "cell_type": "code",
   "source": [
    "news_df.to_csv(f'{ticker}_stock_news.csv', index=False)\n",
    "print(f\"{ticker} stock news saved to aapl_stock_news.csv.\")"
   ],
   "metadata": {
    "colab": {
     "base_uri": "https://localhost:8080/"
    },
    "id": "TvYeJINUhOIl",
    "executionInfo": {
     "status": "ok",
     "timestamp": 1710866407066,
     "user_tz": 0,
     "elapsed": 6,
     "user": {
      "displayName": "Tommy Pasley",
      "userId": "15823566978785309213"
     }
    },
    "outputId": "855e4de2-15b6-4a80-98b0-add1e9090f62",
    "ExecuteTime": {
     "end_time": "2024-03-21T15:53:44.114856Z",
     "start_time": "2024-03-21T15:53:44.110383Z"
    }
   },
   "execution_count": 12,
   "outputs": [
    {
     "name": "stdout",
     "output_type": "stream",
     "text": [
      "MSFT stock news saved to aapl_stock_news.csv.\n"
     ]
    }
   ]
  },
  {
   "cell_type": "code",
   "source": [
    "import os\n",
    "\n",
    "folder_path = f'/IGP Notebooks/Prepared Data/Stock News/{ticker}/'\n",
    "if not os.path.exists(folder_path):\n",
    "    os.makedirs(folder_path)\n"
   ],
   "metadata": {
    "id": "E-U9kI6UjstN",
    "executionInfo": {
     "status": "ok",
     "timestamp": 1710866409240,
     "user_tz": 0,
     "elapsed": 4,
     "user": {
      "displayName": "Tommy Pasley",
      "userId": "15823566978785309213"
     }
    },
    "ExecuteTime": {
     "end_time": "2024-03-21T15:54:06.540264Z",
     "start_time": "2024-03-21T15:54:06.536515Z"
    }
   },
   "execution_count": 16,
   "outputs": []
  },
  {
   "cell_type": "code",
   "source": [
    "from datetime import datetime\n",
    "\n",
    "# Current date and time, formatted as YYYY-MM-DD_HHMMSS\n",
    "now = datetime.now().strftime(\"%Y-%m-%d_%H%M%S\")"
   ],
   "metadata": {
    "id": "lo3OlzIglKiB",
    "executionInfo": {
     "status": "ok",
     "timestamp": 1710866409240,
     "user_tz": 0,
     "elapsed": 3,
     "user": {
      "displayName": "Tommy Pasley",
      "userId": "15823566978785309213"
     }
    },
    "ExecuteTime": {
     "end_time": "2024-03-21T15:54:07.051062Z",
     "start_time": "2024-03-21T15:54:07.047702Z"
    }
   },
   "execution_count": 17,
   "outputs": []
  },
  {
   "cell_type": "code",
   "source": [
    "file_path = os.path.join(folder_path, f'{ticker}_stock_news_{now}.csv')\n",
    "news_df.to_csv(file_path, index=False)\n",
    "print(f\"File saved to {file_path}\")\n"
   ],
   "metadata": {
    "colab": {
     "base_uri": "https://localhost:8080/"
    },
    "id": "ANVhqW0MkNQS",
    "executionInfo": {
     "status": "ok",
     "timestamp": 1710866409240,
     "user_tz": 0,
     "elapsed": 3,
     "user": {
      "displayName": "Tommy Pasley",
      "userId": "15823566978785309213"
     }
    },
    "outputId": "10b6382a-c005-4f5c-bc32-4ccd8d552953",
    "ExecuteTime": {
     "end_time": "2024-03-21T15:54:07.490840Z",
     "start_time": "2024-03-21T15:54:07.485702Z"
    }
   },
   "execution_count": 18,
   "outputs": [
    {
     "name": "stdout",
     "output_type": "stream",
     "text": [
      "File saved to /IGP Notebooks/Prepared Data/Stock News/MSFT/MSFT_stock_news_2024-03-21_155407.csv\n"
     ]
    }
   ]
  },
  {
   "cell_type": "code",
   "outputs": [],
   "source": [],
   "metadata": {
    "collapsed": false
   }
  }
 ]
}
