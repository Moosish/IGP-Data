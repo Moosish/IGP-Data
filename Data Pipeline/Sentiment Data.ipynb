{
 "cells": [
  {
   "cell_type": "code",
   "execution_count": 8,
   "metadata": {
    "ExecuteTime": {
     "end_time": "2024-03-21T15:52:30.125049Z",
     "start_time": "2024-03-21T15:52:28.572247Z"
    },
    "colab": {
     "base_uri": "https://localhost:8080/"
    },
    "executionInfo": {
     "elapsed": 7211,
     "status": "ok",
     "timestamp": 1710866406502,
     "user": {
      "displayName": "Tommy Pasley",
      "userId": "15823566978785309213"
     },
     "user_tz": 0
    },
    "id": "YbG6bDaSfodX",
    "outputId": "eb95b9fe-d4a1-46d0-8928-b5554d0a2993"
   },
   "outputs": [
    {
     "name": "stdout",
     "output_type": "stream",
     "text": [
      "Defaulting to user installation because normal site-packages is not writeable\n",
      "Requirement already satisfied: requests in /Users/willgovier/Library/Python/3.9/lib/python/site-packages (2.31.0)\n",
      "Requirement already satisfied: beautifulsoup4 in /Users/willgovier/Library/Python/3.9/lib/python/site-packages (4.12.3)\n",
      "Requirement already satisfied: pandas in /Users/willgovier/Library/Python/3.9/lib/python/site-packages (2.2.1)\n",
      "Requirement already satisfied: urllib3<3,>=1.21.1 in /Users/willgovier/Library/Python/3.9/lib/python/site-packages (from requests) (2.2.1)\n",
      "Requirement already satisfied: charset-normalizer<4,>=2 in /Users/willgovier/Library/Python/3.9/lib/python/site-packages (from requests) (3.3.2)\n",
      "Requirement already satisfied: idna<4,>=2.5 in /Users/willgovier/Library/Python/3.9/lib/python/site-packages (from requests) (3.6)\n",
      "Requirement already satisfied: certifi>=2017.4.17 in /Users/willgovier/Library/Python/3.9/lib/python/site-packages (from requests) (2024.2.2)\n",
      "Requirement already satisfied: soupsieve>1.2 in /Users/willgovier/Library/Python/3.9/lib/python/site-packages (from beautifulsoup4) (2.5)\n",
      "Requirement already satisfied: python-dateutil>=2.8.2 in /Users/willgovier/Library/Python/3.9/lib/python/site-packages (from pandas) (2.8.2)\n",
      "Requirement already satisfied: pytz>=2020.1 in /Users/willgovier/Library/Python/3.9/lib/python/site-packages (from pandas) (2024.1)\n",
      "Requirement already satisfied: numpy<2,>=1.22.4 in /Users/willgovier/Library/Python/3.9/lib/python/site-packages (from pandas) (1.26.4)\n",
      "Requirement already satisfied: tzdata>=2022.7 in /Users/willgovier/Library/Python/3.9/lib/python/site-packages (from pandas) (2024.1)\n",
      "Requirement already satisfied: six>=1.5 in /Applications/Xcode.app/Contents/Developer/Library/Frameworks/Python3.framework/Versions/3.9/lib/python3.9/site-packages (from python-dateutil>=2.8.2->pandas) (1.15.0)\n",
      "\u001b[33mWARNING: You are using pip version 21.2.4; however, version 24.0 is available.\n",
      "You should consider upgrading via the '/Applications/Xcode.app/Contents/Developer/usr/bin/python3 -m pip install --upgrade pip' command.\u001b[0m\n",
      "Note: you may need to restart the kernel to use updated packages.\n"
     ]
    }
   ],
   "source": [
    "%pip install requests beautifulsoup4 pandas"
   ]
  },
  {
   "cell_type": "code",
   "execution_count": 9,
   "metadata": {
    "ExecuteTime": {
     "end_time": "2024-03-21T15:52:38.246521Z",
     "start_time": "2024-03-21T15:52:38.243434Z"
    },
    "executionInfo": {
     "elapsed": 5,
     "status": "ok",
     "timestamp": 1710866406503,
     "user": {
      "displayName": "Tommy Pasley",
      "userId": "15823566978785309213"
     },
     "user_tz": 0
    },
    "id": "gpChLWDAgGk6"
   },
   "outputs": [],
   "source": [
    "import requests\n",
    "from bs4 import BeautifulSoup\n",
    "import pandas as pd"
   ]
  },
  {
   "cell_type": "code",
   "execution_count": 10,
   "metadata": {
    "ExecuteTime": {
     "end_time": "2024-03-21T15:52:38.674723Z",
     "start_time": "2024-03-21T15:52:38.672451Z"
    },
    "executionInfo": {
     "elapsed": 4,
     "status": "ok",
     "timestamp": 1710866406503,
     "user": {
      "displayName": "Tommy Pasley",
      "userId": "15823566978785309213"
     },
     "user_tz": 0
    },
    "id": "nqz8FCzFj5kU"
   },
   "outputs": [],
   "source": [
    "ticker = 'MSFT'"
   ]
  },
  {
   "cell_type": "code",
   "execution_count": 11,
   "metadata": {
    "ExecuteTime": {
     "end_time": "2024-03-21T15:52:39.165754Z",
     "start_time": "2024-03-21T15:52:39.160916Z"
    },
    "executionInfo": {
     "elapsed": 4,
     "status": "ok",
     "timestamp": 1710866406503,
     "user": {
      "displayName": "Tommy Pasley",
      "userId": "15823566978785309213"
     },
     "user_tz": 0
    },
    "id": "Uxud-AHghGjR"
   },
   "outputs": [],
   "source": [
    "def fetch_finviz_news(stock_symbol):\n",
    "    url = f\"https://finviz.com/quote.ashx?t={stock_symbol}\"\n",
    "    headers = {'User-Agent': 'Mozilla/5.0'}  # Some websites require a user-agent header\n",
    "    response = requests.get(url, headers=headers)\n",
    "\n",
    "    if response.status_code == 200:\n",
    "        soup = BeautifulSoup(response.content, 'html.parser')\n",
    "        headlines = []\n",
    "\n",
    "        # Attempt to locate the news table by its class. Update if the class name has changed.\n",
    "        news_table = soup.find('table', class_='fullview-news-outer')\n",
    "        if news_table:\n",
    "            for row in news_table.findAll('tr'):\n",
    "                try:\n",
    "                    text = row.a.text.strip() if row.a else 'No headline available'\n",
    "                    link = row.a['href'] if row.a else 'No link available'\n",
    "                    date = row.td.text.strip().split('\\n')[0] if row.td else 'No date available'\n",
    "                    headlines.append({'headline': text, 'link': link, 'date': date})\n",
    "                except AttributeError:\n",
    "                    continue  # Skip rows where expected elements are missing\n",
    "        else:\n",
    "            return \"News table not found.\"\n",
    "\n",
    "        return headlines\n",
    "    else:\n",
    "        return \"Failed to retrieve news.\""
   ]
  },
  {
   "cell_type": "code",
   "execution_count": 12,
   "metadata": {
    "ExecuteTime": {
     "end_time": "2024-03-21T15:53:44.109387Z",
     "start_time": "2024-03-21T15:53:43.362063Z"
    },
    "colab": {
     "base_uri": "https://localhost:8080/"
    },
    "executionInfo": {
     "elapsed": 566,
     "status": "ok",
     "timestamp": 1710866407065,
     "user": {
      "displayName": "Tommy Pasley",
      "userId": "15823566978785309213"
     },
     "user_tz": 0
    },
    "id": "WYV24GkfhK8m",
    "outputId": "30ed9296-f040-46df-dbd7-5d82e3081b62"
   },
   "outputs": [
    {
     "name": "stdout",
     "output_type": "stream",
     "text": [
      "                                            headline  \\\n",
      "0  Magnificent Seven Stocks To Buy And Watch: Nvi...   \n",
      "1   Jim Cramer Says You Should Avoid These 11 Stocks   \n",
      "2  These Stocks Are Moving the Most Today: Boeing...   \n",
      "3  Nvidia Has a Secret Weapon to Keep Growing Lon...   \n",
      "4  Intel, AMD Fall on Report China to Limit Use o...   \n",
      "\n",
      "                                                link           date  \n",
      "0  https://finance.yahoo.com/m/4205eaa9-f620-3a0b...  Today 12:23PM  \n",
      "1  https://finance.yahoo.com/news/jim-cramer-says...        11:45AM  \n",
      "2  https://finance.yahoo.com/m/ef62b59f-2890-3f7a...        11:17AM  \n",
      "3  https://finance.yahoo.com/m/cc99c582-04fa-3d85...        10:31AM  \n",
      "4  https://finance.yahoo.com/news/intel-amd-fall-...        10:16AM  \n"
     ]
    }
   ],
   "source": [
    "# Fetch news for AAPL\n",
    "news = fetch_finviz_news(ticker)\n",
    "\n",
    "# Convert to DataFrame for easier viewing\n",
    "news_df = pd.DataFrame(news)\n",
    "\n",
    "# Display the first few rows\n",
    "print(news_df.head())"
   ]
  },
  {
   "cell_type": "code",
   "execution_count": 13,
   "metadata": {
    "ExecuteTime": {
     "end_time": "2024-03-21T15:53:44.114856Z",
     "start_time": "2024-03-21T15:53:44.110383Z"
    },
    "colab": {
     "base_uri": "https://localhost:8080/"
    },
    "executionInfo": {
     "elapsed": 6,
     "status": "ok",
     "timestamp": 1710866407066,
     "user": {
      "displayName": "Tommy Pasley",
      "userId": "15823566978785309213"
     },
     "user_tz": 0
    },
    "id": "TvYeJINUhOIl",
    "outputId": "855e4de2-15b6-4a80-98b0-add1e9090f62"
   },
   "outputs": [
    {
     "name": "stdout",
     "output_type": "stream",
     "text": [
      "MSFT stock news saved to aapl_stock_news.csv.\n"
     ]
    }
   ],
   "source": [
    "news_df.to_csv(f'{ticker}_stock_news.csv', index=False)\n",
    "print(f\"{ticker} stock news saved to aapl_stock_news.csv.\")"
   ]
  },
  {
   "cell_type": "code",
   "execution_count": 14,
   "metadata": {
    "ExecuteTime": {
     "end_time": "2024-03-21T15:54:06.540264Z",
     "start_time": "2024-03-21T15:54:06.536515Z"
    },
    "executionInfo": {
     "elapsed": 4,
     "status": "ok",
     "timestamp": 1710866409240,
     "user": {
      "displayName": "Tommy Pasley",
      "userId": "15823566978785309213"
     },
     "user_tz": 0
    },
    "id": "E-U9kI6UjstN"
   },
   "outputs": [],
   "source": [
    "import os\n",
    "\n",
    "folder_path = f'../Prepared Data/Stock News/{ticker}/'\n",
    "if not os.path.exists(folder_path):\n",
    "    os.makedirs(folder_path)\n"
   ]
  },
  {
   "cell_type": "code",
   "execution_count": 15,
   "metadata": {
    "ExecuteTime": {
     "end_time": "2024-03-21T15:54:07.051062Z",
     "start_time": "2024-03-21T15:54:07.047702Z"
    },
    "executionInfo": {
     "elapsed": 3,
     "status": "ok",
     "timestamp": 1710866409240,
     "user": {
      "displayName": "Tommy Pasley",
      "userId": "15823566978785309213"
     },
     "user_tz": 0
    },
    "id": "lo3OlzIglKiB"
   },
   "outputs": [],
   "source": [
    "from datetime import datetime\n",
    "\n",
    "# Current date and time, formatted as YYYY-MM-DD_HHMMSS\n",
    "now = datetime.now().strftime(\"%Y-%m-%d_%H%M%S\")"
   ]
  },
  {
   "cell_type": "code",
   "execution_count": 16,
   "metadata": {
    "ExecuteTime": {
     "end_time": "2024-03-21T15:54:07.490840Z",
     "start_time": "2024-03-21T15:54:07.485702Z"
    },
    "colab": {
     "base_uri": "https://localhost:8080/"
    },
    "executionInfo": {
     "elapsed": 3,
     "status": "ok",
     "timestamp": 1710866409240,
     "user": {
      "displayName": "Tommy Pasley",
      "userId": "15823566978785309213"
     },
     "user_tz": 0
    },
    "id": "ANVhqW0MkNQS",
    "outputId": "10b6382a-c005-4f5c-bc32-4ccd8d552953"
   },
   "outputs": [
    {
     "name": "stdout",
     "output_type": "stream",
     "text": [
      "File saved to ../Prepared Data/Stock News/MSFT/MSFT_stock_news_2024-03-25_163333.csv\n"
     ]
    }
   ],
   "source": [
    "file_path = os.path.join(folder_path, f'{ticker}_stock_news_{now}.csv')\n",
    "news_df.to_csv(file_path, index=False)\n",
    "print(f\"File saved to {file_path}\")\n"
   ]
  },
  {
   "cell_type": "code",
   "execution_count": null,
   "metadata": {
    "collapsed": false
   },
   "outputs": [],
   "source": []
  }
 ],
 "metadata": {
  "colab": {
   "authorship_tag": "ABX9TyMixZqoCs6I1SN1oc3ptgGQ",
   "provenance": []
  },
  "kernelspec": {
   "display_name": "Python 3 (ipykernel)",
   "language": "python",
   "name": "python3"
  },
  "language_info": {
   "codemirror_mode": {
    "name": "ipython",
    "version": 3
   },
   "file_extension": ".py",
   "mimetype": "text/x-python",
   "name": "python",
   "nbconvert_exporter": "python",
   "pygments_lexer": "ipython3",
   "version": "3.9.6"
  }
 },
 "nbformat": 4,
 "nbformat_minor": 0
}
